{
 "cells": [
  {
   "cell_type": "markdown",
   "id": "f7e6b861-b8bb-4e7f-8bca-18efcd1f8b6d",
   "metadata": {},
   "source": [
    "# Survey Data"
   ]
  },
  {
   "cell_type": "markdown",
   "id": "9b5f770f-9934-4081-9058-7de2bfcaec07",
   "metadata": {},
   "source": [
    "## Import Libraries"
   ]
  },
  {
   "cell_type": "code",
   "execution_count": 20,
   "id": "31357ea1-889c-4651-8ec2-21e40e85c03c",
   "metadata": {},
   "outputs": [
    {
     "name": "stdout",
     "output_type": "stream",
     "text": [
      "done\n"
     ]
    }
   ],
   "source": [
    "# import module for data manipulation\n",
    "import pandas as pd\n",
    "# import module for linear algebra\n",
    "import numpy as np\n",
    "# import module for data visualization\n",
    "from plotnine import *\n",
    "import plotnine\n",
    "# iata visualization with matplotlib\n",
    "import matplotlib.pyplot as plt\n",
    "import seaborn as sns\n",
    "%matplotlib inline\n",
    "# use the theme of ggplot\n",
    "plt.style.use('ggplot')\n",
    "# import module for k-protoype cluster\n",
    "from kmodes.kmodes import KModes\n",
    "\n",
    "print(\"done\")"
   ]
  },
  {
   "cell_type": "markdown",
   "id": "698bc1e5-1ba6-4fe2-9af0-01b7e839f751",
   "metadata": {},
   "source": [
    "## Import Data and Check"
   ]
  },
  {
   "cell_type": "code",
   "execution_count": 10,
   "id": "2bbc0220-cbff-4f87-bb3b-911fd3ed67a2",
   "metadata": {},
   "outputs": [],
   "source": [
    "# import data\n",
    "df = pd.read_excel(r'C:\\Users\\Work\\Documents\\nortal\\survey_data.xlsx', sheet_name='A1')\n"
   ]
  },
  {
   "cell_type": "code",
   "execution_count": 11,
   "id": "6bba06d3-def3-4720-84ee-dd8f71bbc7da",
   "metadata": {},
   "outputs": [
    {
     "data": {
      "text/plain": [
       "(1262, 180)"
      ]
     },
     "execution_count": 11,
     "metadata": {},
     "output_type": "execute_result"
    }
   ],
   "source": [
    "# data dimensions\n",
    "df.shape\n"
   ]
  },
  {
   "cell_type": "code",
   "execution_count": 15,
   "id": "b3ddad52-470b-4768-80ee-366a7e12a865",
   "metadata": {},
   "outputs": [
    {
     "data": {
      "text/html": [
       "<div>\n",
       "<style scoped>\n",
       "    .dataframe tbody tr th:only-of-type {\n",
       "        vertical-align: middle;\n",
       "    }\n",
       "\n",
       "    .dataframe tbody tr th {\n",
       "        vertical-align: top;\n",
       "    }\n",
       "\n",
       "    .dataframe thead th {\n",
       "        text-align: right;\n",
       "    }\n",
       "</style>\n",
       "<table border=\"1\" class=\"dataframe\">\n",
       "  <thead>\n",
       "    <tr style=\"text-align: right;\">\n",
       "      <th></th>\n",
       "      <th>record</th>\n",
       "      <th>uuid</th>\n",
       "      <th>date</th>\n",
       "      <th>status</th>\n",
       "      <th>HidxCountry</th>\n",
       "      <th>Q2</th>\n",
       "      <th>Q3</th>\n",
       "      <th>KSA</th>\n",
       "      <th>UAE</th>\n",
       "      <th>DEU</th>\n",
       "      <th>...</th>\n",
       "      <th>q38_time_year</th>\n",
       "      <th>q38_time_six_months</th>\n",
       "      <th>q38_time_month</th>\n",
       "      <th>q38_time_week</th>\n",
       "      <th>q38_time_day</th>\n",
       "      <th>q38_time_no_time</th>\n",
       "      <th>Q39</th>\n",
       "      <th>qtime</th>\n",
       "      <th>HidxChangerr1</th>\n",
       "      <th>HidxChangerr2</th>\n",
       "    </tr>\n",
       "  </thead>\n",
       "  <tbody>\n",
       "    <tr>\n",
       "      <th>0</th>\n",
       "      <td>17</td>\n",
       "      <td>fzxhqkwpneprp3tw</td>\n",
       "      <td>2021-10-14 10:44:25</td>\n",
       "      <td>3</td>\n",
       "      <td>6</td>\n",
       "      <td>1</td>\n",
       "      <td>7</td>\n",
       "      <td>0</td>\n",
       "      <td>0</td>\n",
       "      <td>0</td>\n",
       "      <td>...</td>\n",
       "      <td>0</td>\n",
       "      <td>0</td>\n",
       "      <td>1</td>\n",
       "      <td>0</td>\n",
       "      <td>0</td>\n",
       "      <td>0</td>\n",
       "      <td>3</td>\n",
       "      <td>358.972</td>\n",
       "      <td>NaN</td>\n",
       "      <td>NaN</td>\n",
       "    </tr>\n",
       "    <tr>\n",
       "      <th>1</th>\n",
       "      <td>18</td>\n",
       "      <td>s1rfy8s3rd2259pk</td>\n",
       "      <td>2021-10-14 10:48:53</td>\n",
       "      <td>3</td>\n",
       "      <td>6</td>\n",
       "      <td>1</td>\n",
       "      <td>7</td>\n",
       "      <td>0</td>\n",
       "      <td>0</td>\n",
       "      <td>0</td>\n",
       "      <td>...</td>\n",
       "      <td>0</td>\n",
       "      <td>0</td>\n",
       "      <td>0</td>\n",
       "      <td>1</td>\n",
       "      <td>0</td>\n",
       "      <td>0</td>\n",
       "      <td>2</td>\n",
       "      <td>593.460</td>\n",
       "      <td>NaN</td>\n",
       "      <td>NaN</td>\n",
       "    </tr>\n",
       "    <tr>\n",
       "      <th>2</th>\n",
       "      <td>19</td>\n",
       "      <td>vpcskr2qzhmffy87</td>\n",
       "      <td>2021-10-14 10:43:34</td>\n",
       "      <td>3</td>\n",
       "      <td>6</td>\n",
       "      <td>1</td>\n",
       "      <td>7</td>\n",
       "      <td>0</td>\n",
       "      <td>0</td>\n",
       "      <td>0</td>\n",
       "      <td>...</td>\n",
       "      <td>0</td>\n",
       "      <td>0</td>\n",
       "      <td>1</td>\n",
       "      <td>0</td>\n",
       "      <td>0</td>\n",
       "      <td>0</td>\n",
       "      <td>1</td>\n",
       "      <td>281.640</td>\n",
       "      <td>NaN</td>\n",
       "      <td>NaN</td>\n",
       "    </tr>\n",
       "    <tr>\n",
       "      <th>3</th>\n",
       "      <td>20</td>\n",
       "      <td>g9dcv3wb095qn08s</td>\n",
       "      <td>2021-10-14 10:46:26</td>\n",
       "      <td>3</td>\n",
       "      <td>1</td>\n",
       "      <td>1</td>\n",
       "      <td>1</td>\n",
       "      <td>1</td>\n",
       "      <td>0</td>\n",
       "      <td>0</td>\n",
       "      <td>...</td>\n",
       "      <td>0</td>\n",
       "      <td>0</td>\n",
       "      <td>0</td>\n",
       "      <td>0</td>\n",
       "      <td>1</td>\n",
       "      <td>0</td>\n",
       "      <td>1</td>\n",
       "      <td>365.748</td>\n",
       "      <td>NaN</td>\n",
       "      <td>NaN</td>\n",
       "    </tr>\n",
       "    <tr>\n",
       "      <th>4</th>\n",
       "      <td>21</td>\n",
       "      <td>03qv11xnkxbwjzp6</td>\n",
       "      <td>2021-10-14 10:46:26</td>\n",
       "      <td>3</td>\n",
       "      <td>6</td>\n",
       "      <td>1</td>\n",
       "      <td>7</td>\n",
       "      <td>0</td>\n",
       "      <td>0</td>\n",
       "      <td>0</td>\n",
       "      <td>...</td>\n",
       "      <td>0</td>\n",
       "      <td>0</td>\n",
       "      <td>0</td>\n",
       "      <td>1</td>\n",
       "      <td>0</td>\n",
       "      <td>0</td>\n",
       "      <td>2</td>\n",
       "      <td>446.400</td>\n",
       "      <td>NaN</td>\n",
       "      <td>NaN</td>\n",
       "    </tr>\n",
       "  </tbody>\n",
       "</table>\n",
       "<p>5 rows × 180 columns</p>\n",
       "</div>"
      ],
      "text/plain": [
       "   record              uuid                 date  status  HidxCountry  Q2  Q3  \\\n",
       "0      17  fzxhqkwpneprp3tw  2021-10-14 10:44:25       3            6   1   7   \n",
       "1      18  s1rfy8s3rd2259pk  2021-10-14 10:48:53       3            6   1   7   \n",
       "2      19  vpcskr2qzhmffy87  2021-10-14 10:43:34       3            6   1   7   \n",
       "3      20  g9dcv3wb095qn08s  2021-10-14 10:46:26       3            1   1   1   \n",
       "4      21  03qv11xnkxbwjzp6  2021-10-14 10:46:26       3            6   1   7   \n",
       "\n",
       "   KSA  UAE  DEU  ...  q38_time_year  q38_time_six_months  q38_time_month  \\\n",
       "0    0    0    0  ...              0                    0               1   \n",
       "1    0    0    0  ...              0                    0               0   \n",
       "2    0    0    0  ...              0                    0               1   \n",
       "3    1    0    0  ...              0                    0               0   \n",
       "4    0    0    0  ...              0                    0               0   \n",
       "\n",
       "   q38_time_week q38_time_day  q38_time_no_time  Q39    qtime  HidxChangerr1  \\\n",
       "0              0            0                 0    3  358.972            NaN   \n",
       "1              1            0                 0    2  593.460            NaN   \n",
       "2              0            0                 0    1  281.640            NaN   \n",
       "3              0            1                 0    1  365.748            NaN   \n",
       "4              1            0                 0    2  446.400            NaN   \n",
       "\n",
       "   HidxChangerr2  \n",
       "0            NaN  \n",
       "1            NaN  \n",
       "2            NaN  \n",
       "3            NaN  \n",
       "4            NaN  \n",
       "\n",
       "[5 rows x 180 columns]"
      ]
     },
     "execution_count": 15,
     "metadata": {},
     "output_type": "execute_result"
    }
   ],
   "source": [
    "# first five lines\n",
    "df.head()"
   ]
  },
  {
   "cell_type": "code",
   "execution_count": 73,
   "id": "a10ce2ad-a2d8-4f87-b6f9-e5336767cb3f",
   "metadata": {},
   "outputs": [],
   "source": [
    "#df.describe()"
   ]
  },
  {
   "cell_type": "code",
   "execution_count": 62,
   "id": "d84a9ab9-73a4-4f66-827e-0d79ea06ca62",
   "metadata": {},
   "outputs": [],
   "source": [
    "#df.describe(include=['object'])"
   ]
  },
  {
   "cell_type": "code",
   "execution_count": 21,
   "id": "9e1d501f-7c06-4b95-b776-b9a19cbb116b",
   "metadata": {},
   "outputs": [
    {
     "data": {
      "text/plain": [
       "<AxesSubplot:xlabel='country', ylabel='q37_usd'>"
      ]
     },
     "execution_count": 21,
     "metadata": {},
     "output_type": "execute_result"
    },
    {
     "data": {
      "image/png": "[encoded data removed]",
      "text/plain": [
       "<Figure size 432x288 with 1 Axes>"
      ]
     },
     "metadata": {},
     "output_type": "display_data"
    }
   ],
   "source": [
    "# boxplots\n",
    "sns.boxplot(x=\"country\", y=\"q37_usd\", data=df)"
   ]
  },
  {
   "cell_type": "code",
   "execution_count": 49,
   "id": "47458ad0-45bc-4047-a2b1-cb8a118feacd",
   "metadata": {},
   "outputs": [
    {
     "data": {
      "text/html": [
       "<div>\n",
       "<style scoped>\n",
       "    .dataframe tbody tr th:only-of-type {\n",
       "        vertical-align: middle;\n",
       "    }\n",
       "\n",
       "    .dataframe tbody tr th {\n",
       "        vertical-align: top;\n",
       "    }\n",
       "\n",
       "    .dataframe thead th {\n",
       "        text-align: right;\n",
       "    }\n",
       "</style>\n",
       "<table border=\"1\" class=\"dataframe\">\n",
       "  <thead>\n",
       "    <tr style=\"text-align: right;\">\n",
       "      <th></th>\n",
       "      <th>country</th>\n",
       "      <th>q37_usd</th>\n",
       "    </tr>\n",
       "  </thead>\n",
       "  <tbody>\n",
       "    <tr>\n",
       "      <th>0</th>\n",
       "      <td>DEU</td>\n",
       "      <td>43.783333</td>\n",
       "    </tr>\n",
       "    <tr>\n",
       "      <th>1</th>\n",
       "      <td>FIN</td>\n",
       "      <td>28.866667</td>\n",
       "    </tr>\n",
       "    <tr>\n",
       "      <th>2</th>\n",
       "      <td>IND</td>\n",
       "      <td>68.134444</td>\n",
       "    </tr>\n",
       "    <tr>\n",
       "      <th>3</th>\n",
       "      <td>KSA</td>\n",
       "      <td>96.514586</td>\n",
       "    </tr>\n",
       "    <tr>\n",
       "      <th>4</th>\n",
       "      <td>UAE</td>\n",
       "      <td>76.984530</td>\n",
       "    </tr>\n",
       "    <tr>\n",
       "      <th>5</th>\n",
       "      <td>USA-Cal</td>\n",
       "      <td>98.105556</td>\n",
       "    </tr>\n",
       "    <tr>\n",
       "      <th>6</th>\n",
       "      <td>USA-Mis</td>\n",
       "      <td>48.627778</td>\n",
       "    </tr>\n",
       "  </tbody>\n",
       "</table>\n",
       "</div>"
      ],
      "text/plain": [
       "   country    q37_usd\n",
       "0      DEU  43.783333\n",
       "1      FIN  28.866667\n",
       "2      IND  68.134444\n",
       "3      KSA  96.514586\n",
       "4      UAE  76.984530\n",
       "5  USA-Cal  98.105556\n",
       "6  USA-Mis  48.627778"
      ]
     },
     "execution_count": 49,
     "metadata": {},
     "output_type": "execute_result"
    }
   ],
   "source": [
    "df_country_pers = df[['country', 'persona', 'q37_usd']]\n",
    "\n",
    "df_avg_usd = df_country_pers.groupby(['country'], as_index=False).mean()\n",
    "df_avg_usd\n"
   ]
  },
  {
   "cell_type": "code",
   "execution_count": 58,
   "id": "9033a679-99c6-4096-ac80-ad56701e5766",
   "metadata": {},
   "outputs": [
    {
     "data": {
      "text/html": [
       "<div>\n",
       "<style scoped>\n",
       "    .dataframe tbody tr th:only-of-type {\n",
       "        vertical-align: middle;\n",
       "    }\n",
       "\n",
       "    .dataframe tbody tr th {\n",
       "        vertical-align: top;\n",
       "    }\n",
       "\n",
       "    .dataframe thead th {\n",
       "        text-align: right;\n",
       "    }\n",
       "</style>\n",
       "<table border=\"1\" class=\"dataframe\">\n",
       "  <thead>\n",
       "    <tr style=\"text-align: right;\">\n",
       "      <th>persona</th>\n",
       "      <th>Privacy Fatalist</th>\n",
       "      <th>Privacy Pragmatic</th>\n",
       "      <th>Privacy Relaxed</th>\n",
       "      <th>Privacy Worried</th>\n",
       "      <th>Privacy as Principle</th>\n",
       "    </tr>\n",
       "    <tr>\n",
       "      <th>country</th>\n",
       "      <th></th>\n",
       "      <th></th>\n",
       "      <th></th>\n",
       "      <th></th>\n",
       "      <th></th>\n",
       "    </tr>\n",
       "  </thead>\n",
       "  <tbody>\n",
       "    <tr>\n",
       "      <th>DEU</th>\n",
       "      <td>32</td>\n",
       "      <td>30</td>\n",
       "      <td>75</td>\n",
       "      <td>16</td>\n",
       "      <td>27</td>\n",
       "    </tr>\n",
       "    <tr>\n",
       "      <th>FIN</th>\n",
       "      <td>16</td>\n",
       "      <td>36</td>\n",
       "      <td>84</td>\n",
       "      <td>22</td>\n",
       "      <td>22</td>\n",
       "    </tr>\n",
       "    <tr>\n",
       "      <th>IND</th>\n",
       "      <td>8</td>\n",
       "      <td>20</td>\n",
       "      <td>41</td>\n",
       "      <td>102</td>\n",
       "      <td>9</td>\n",
       "    </tr>\n",
       "    <tr>\n",
       "      <th>KSA</th>\n",
       "      <td>1</td>\n",
       "      <td>30</td>\n",
       "      <td>78</td>\n",
       "      <td>66</td>\n",
       "      <td>6</td>\n",
       "    </tr>\n",
       "    <tr>\n",
       "      <th>UAE</th>\n",
       "      <td>3</td>\n",
       "      <td>26</td>\n",
       "      <td>79</td>\n",
       "      <td>64</td>\n",
       "      <td>9</td>\n",
       "    </tr>\n",
       "    <tr>\n",
       "      <th>USA-Cal</th>\n",
       "      <td>14</td>\n",
       "      <td>17</td>\n",
       "      <td>84</td>\n",
       "      <td>50</td>\n",
       "      <td>15</td>\n",
       "    </tr>\n",
       "    <tr>\n",
       "      <th>USA-Mis</th>\n",
       "      <td>26</td>\n",
       "      <td>42</td>\n",
       "      <td>49</td>\n",
       "      <td>40</td>\n",
       "      <td>23</td>\n",
       "    </tr>\n",
       "  </tbody>\n",
       "</table>\n",
       "</div>"
      ],
      "text/plain": [
       "persona  Privacy Fatalist  Privacy Pragmatic  Privacy Relaxed  \\\n",
       "country                                                         \n",
       "DEU                    32                 30               75   \n",
       "FIN                    16                 36               84   \n",
       "IND                     8                 20               41   \n",
       "KSA                     1                 30               78   \n",
       "UAE                     3                 26               79   \n",
       "USA-Cal                14                 17               84   \n",
       "USA-Mis                26                 42               49   \n",
       "\n",
       "persona  Privacy Worried  Privacy as Principle  \n",
       "country                                         \n",
       "DEU                   16                    27  \n",
       "FIN                   22                    22  \n",
       "IND                  102                     9  \n",
       "KSA                   66                     6  \n",
       "UAE                   64                     9  \n",
       "USA-Cal               50                    15  \n",
       "USA-Mis               40                    23  "
      ]
     },
     "execution_count": 58,
     "metadata": {},
     "output_type": "execute_result"
    }
   ],
   "source": [
    "df_country_pers.groupby('country')['persona'].value_counts().unstack().fillna(0)\n"
   ]
  },
  {
   "cell_type": "code",
   "execution_count": 63,
   "id": "29266e66-ab8a-46f8-a0ab-92ba32a01383",
   "metadata": {},
   "outputs": [
    {
     "data": {
      "text/plain": [
       "record                0\n",
       "uuid                  0\n",
       "date                  0\n",
       "status                0\n",
       "HidxCountry           0\n",
       "                   ... \n",
       "q38_time_no_time      0\n",
       "Q39                   0\n",
       "qtime                 0\n",
       "HidxChangerr1       472\n",
       "HidxChangerr2       472\n",
       "Length: 180, dtype: int64"
      ]
     },
     "execution_count": 63,
     "metadata": {},
     "output_type": "execute_result"
    }
   ],
   "source": [
    "df.isna().sum()"
   ]
  },
  {
   "cell_type": "markdown",
   "id": "3f4e8009-d04a-46fa-8c7e-cf7f26c19570",
   "metadata": {},
   "source": [
    "## Prepare K-Mode Data"
   ]
  },
  {
   "cell_type": "code",
   "execution_count": 68,
   "id": "445bd0b7-43ad-4d0e-930d-ba82c1573c2e",
   "metadata": {},
   "outputs": [
    {
     "data": {
      "text/html": [
       "<div>\n",
       "<style scoped>\n",
       "    .dataframe tbody tr th:only-of-type {\n",
       "        vertical-align: middle;\n",
       "    }\n",
       "\n",
       "    .dataframe tbody tr th {\n",
       "        vertical-align: top;\n",
       "    }\n",
       "\n",
       "    .dataframe thead th {\n",
       "        text-align: right;\n",
       "    }\n",
       "</style>\n",
       "<table border=\"1\" class=\"dataframe\">\n",
       "  <thead>\n",
       "    <tr style=\"text-align: right;\">\n",
       "      <th></th>\n",
       "      <th>uuid</th>\n",
       "      <th>Q3</th>\n",
       "      <th>Q5</th>\n",
       "      <th>q6_male</th>\n",
       "    </tr>\n",
       "  </thead>\n",
       "  <tbody>\n",
       "    <tr>\n",
       "      <th>0</th>\n",
       "      <td>fzxhqkwpneprp3tw</td>\n",
       "      <td>7</td>\n",
       "      <td>5</td>\n",
       "      <td>0</td>\n",
       "    </tr>\n",
       "    <tr>\n",
       "      <th>1</th>\n",
       "      <td>s1rfy8s3rd2259pk</td>\n",
       "      <td>7</td>\n",
       "      <td>5</td>\n",
       "      <td>0</td>\n",
       "    </tr>\n",
       "    <tr>\n",
       "      <th>2</th>\n",
       "      <td>vpcskr2qzhmffy87</td>\n",
       "      <td>7</td>\n",
       "      <td>4</td>\n",
       "      <td>1</td>\n",
       "    </tr>\n",
       "    <tr>\n",
       "      <th>3</th>\n",
       "      <td>g9dcv3wb095qn08s</td>\n",
       "      <td>1</td>\n",
       "      <td>3</td>\n",
       "      <td>0</td>\n",
       "    </tr>\n",
       "    <tr>\n",
       "      <th>4</th>\n",
       "      <td>03qv11xnkxbwjzp6</td>\n",
       "      <td>7</td>\n",
       "      <td>2</td>\n",
       "      <td>0</td>\n",
       "    </tr>\n",
       "  </tbody>\n",
       "</table>\n",
       "</div>"
      ],
      "text/plain": [
       "               uuid  Q3  Q5  q6_male\n",
       "0  fzxhqkwpneprp3tw   7   5        0\n",
       "1  s1rfy8s3rd2259pk   7   5        0\n",
       "2  vpcskr2qzhmffy87   7   4        1\n",
       "3  g9dcv3wb095qn08s   1   3        0\n",
       "4  03qv11xnkxbwjzp6   7   2        0"
      ]
     },
     "execution_count": 68,
     "metadata": {},
     "output_type": "execute_result"
    }
   ],
   "source": [
    "df_demo = df[['uuid', 'Q3', 'Q5', 'q6_male']]\n",
    "df_demo.head()"
   ]
  },
  {
   "cell_type": "code",
   "execution_count": 117,
   "id": "6364bae6-024e-42ed-80bf-ccf3a5f6771e",
   "metadata": {},
   "outputs": [
    {
     "data": {
      "text/plain": [
       "uuid         object\n",
       "Q3         category\n",
       "Q5            int64\n",
       "q6_male       int64\n",
       "dtype: object"
      ]
     },
     "execution_count": 117,
     "metadata": {},
     "output_type": "execute_result"
    }
   ],
   "source": [
    "# check data types\n",
    "df_demo.dtypes"
   ]
  },
  {
   "cell_type": "code",
   "execution_count": 120,
   "id": "2296c7e4-79da-4468-8637-361d8cd2e491",
   "metadata": {},
   "outputs": [],
   "source": [
    "# cast to object\n",
    "df_cat = df_demo.astype(\"object\")"
   ]
  },
  {
   "cell_type": "code",
   "execution_count": 124,
   "id": "f10bcc01-a58a-4352-98df-e5322ac3fe2f",
   "metadata": {},
   "outputs": [
    {
     "data": {
      "text/plain": [
       "uuid       object\n",
       "Q3         object\n",
       "Q5         object\n",
       "q6_male    object\n",
       "dtype: object"
      ]
     },
     "execution_count": 124,
     "metadata": {},
     "output_type": "execute_result"
    }
   ],
   "source": [
    "# check conversion\n",
    "df_cat.dtypes"
   ]
  },
  {
   "cell_type": "code",
   "execution_count": 122,
   "id": "bebcf86e-b41f-437b-8665-c474c9e9e584",
   "metadata": {},
   "outputs": [
    {
     "data": {
      "text/html": [
       "<div>\n",
       "<style scoped>\n",
       "    .dataframe tbody tr th:only-of-type {\n",
       "        vertical-align: middle;\n",
       "    }\n",
       "\n",
       "    .dataframe tbody tr th {\n",
       "        vertical-align: top;\n",
       "    }\n",
       "\n",
       "    .dataframe thead th {\n",
       "        text-align: right;\n",
       "    }\n",
       "</style>\n",
       "<table border=\"1\" class=\"dataframe\">\n",
       "  <thead>\n",
       "    <tr style=\"text-align: right;\">\n",
       "      <th></th>\n",
       "      <th>uuid</th>\n",
       "      <th>Q3</th>\n",
       "      <th>Q5</th>\n",
       "      <th>q6_male</th>\n",
       "    </tr>\n",
       "  </thead>\n",
       "  <tbody>\n",
       "    <tr>\n",
       "      <th>0</th>\n",
       "      <td>fzxhqkwpneprp3tw</td>\n",
       "      <td>7</td>\n",
       "      <td>5</td>\n",
       "      <td>0</td>\n",
       "    </tr>\n",
       "    <tr>\n",
       "      <th>1</th>\n",
       "      <td>s1rfy8s3rd2259pk</td>\n",
       "      <td>7</td>\n",
       "      <td>5</td>\n",
       "      <td>0</td>\n",
       "    </tr>\n",
       "    <tr>\n",
       "      <th>2</th>\n",
       "      <td>vpcskr2qzhmffy87</td>\n",
       "      <td>7</td>\n",
       "      <td>4</td>\n",
       "      <td>1</td>\n",
       "    </tr>\n",
       "    <tr>\n",
       "      <th>3</th>\n",
       "      <td>g9dcv3wb095qn08s</td>\n",
       "      <td>1</td>\n",
       "      <td>3</td>\n",
       "      <td>0</td>\n",
       "    </tr>\n",
       "    <tr>\n",
       "      <th>4</th>\n",
       "      <td>03qv11xnkxbwjzp6</td>\n",
       "      <td>7</td>\n",
       "      <td>2</td>\n",
       "      <td>0</td>\n",
       "    </tr>\n",
       "  </tbody>\n",
       "</table>\n",
       "</div>"
      ],
      "text/plain": [
       "               uuid Q3 Q5 q6_male\n",
       "0  fzxhqkwpneprp3tw  7  5       0\n",
       "1  s1rfy8s3rd2259pk  7  5       0\n",
       "2  vpcskr2qzhmffy87  7  4       1\n",
       "3  g9dcv3wb095qn08s  1  3       0\n",
       "4  03qv11xnkxbwjzp6  7  2       0"
      ]
     },
     "execution_count": 122,
     "metadata": {},
     "output_type": "execute_result"
    }
   ],
   "source": [
    "# view dataset\n",
    "df_cat.head()"
   ]
  },
  {
   "cell_type": "code",
   "execution_count": 123,
   "id": "dd2d7e65-f0a3-47a5-9d16-6734f5b183ec",
   "metadata": {},
   "outputs": [
    {
     "data": {
      "text/plain": [
       "uuid       0\n",
       "Q3         0\n",
       "Q5         0\n",
       "q6_male    0\n",
       "dtype: int64"
      ]
     },
     "execution_count": 123,
     "metadata": {},
     "output_type": "execute_result"
    }
   ],
   "source": [
    "# check missing value\n",
    "df_cat.isna().sum()"
   ]
  },
  {
   "cell_type": "code",
   "execution_count": 125,
   "id": "c8e2874f-cba3-4b72-ab3d-743e45d83f9c",
   "metadata": {},
   "outputs": [
    {
     "data": {
      "text/plain": [
       "array([[7, 5, 0],\n",
       "       [7, 5, 0],\n",
       "       [7, 4, 1],\n",
       "       ...,\n",
       "       [4, 3, 1],\n",
       "       [4, 4, 1],\n",
       "       [4, 4, 1]], dtype=object)"
      ]
     },
     "execution_count": 125,
     "metadata": {},
     "output_type": "execute_result"
    }
   ],
   "source": [
    "# convert dataframe to matrix\n",
    "dfMatrix = df_cat.loc[:, df_cat.columns != 'uuid'].to_numpy()\n",
    "dfMatrix"
   ]
  },
  {
   "cell_type": "code",
   "execution_count": 126,
   "id": "b681272b-55ff-409c-a9fa-d6a84a9f7811",
   "metadata": {},
   "outputs": [
    {
     "name": "stdout",
     "output_type": "stream",
     "text": [
      "Cluster initiation: 1\n",
      "Cluster initiation: 2\n",
      "Cluster initiation: 3\n",
      "Cluster initiation: 4\n",
      "Cluster initiation: 5\n",
      "Cluster initiation: 6\n",
      "Cluster initiation: 7\n",
      "Cluster initiation: 8\n",
      "Cluster initiation: 9\n"
     ]
    },
    {
     "data": {
      "image/png": "[encoded data removed]",
      "text/plain": [
       "<Figure size 800x480 with 1 Axes>"
      ]
     },
     "metadata": {
      "needs_background": "light"
     },
     "output_type": "display_data"
    },
    {
     "data": {
      "text/plain": [
       "<ggplot: (189860670633)>"
      ]
     },
     "execution_count": 126,
     "metadata": {},
     "output_type": "execute_result"
    }
   ],
   "source": [
    "# choosing optimal K\n",
    "cost = []\n",
    "for cluster in range(1, 10):\n",
    "    try:\n",
    "        kmodes = KModes(n_jobs = -1, n_clusters = cluster, init = 'Huang', random_state = 0)\n",
    "        kmodes.fit_predict(dfMatrix)\n",
    "        cost.append(kmodes.cost_)                              # For KModes, plot cost for a range of K values. Cost is the sum of all the dissimilarities between the clusters.\n",
    "        print('Cluster initiation: {}'.format(cluster))\n",
    "    except:\n",
    "        break\n",
    "# Converting the results into a dataframe and plotting them\n",
    "df_cost = pd.DataFrame({'Cluster': range(1, 10), 'Cost': cost})\n",
    "# Data viz\n",
    "plotnine.options.figure_size = (8, 4.8)\n",
    "(\n",
    "    ggplot(data = df_cost)+\n",
    "    geom_line(aes(x = 'Cluster',\n",
    "                  y = 'Cost'))+\n",
    "    geom_point(aes(x = 'Cluster',\n",
    "                   y = 'Cost'))+\n",
    "    geom_label(aes(x = 'Cluster',\n",
    "                   y = 'Cost',\n",
    "                   label = 'Cluster'),\n",
    "               size = 10,\n",
    "               nudge_y = 1000) +\n",
    "    labs(title = 'Optimal number of cluster with Elbow Method')+\n",
    "    xlab('Number of Clusters k')+\n",
    "    ylab('Cost')+\n",
    "    theme_minimal()\n",
    ")"
   ]
  },
  {
   "cell_type": "code",
   "execution_count": 135,
   "id": "ba06b345-27b1-434d-ad2b-2a485de27900",
   "metadata": {},
   "outputs": [
    {
     "data": {
      "text/plain": [
       "array([1, 1, 0, ..., 0, 0, 0], dtype=uint16)"
      ]
     },
     "execution_count": 135,
     "metadata": {},
     "output_type": "execute_result"
    }
   ],
   "source": [
    "# fit the cluster\n",
    "kmodes = KModes(n_jobs = -1, n_clusters = 2, init = 'Huang', random_state = 0)\n",
    "kmodes.fit_predict(dfMatrix)"
   ]
  },
  {
   "cell_type": "code",
   "execution_count": 128,
   "id": "00c763e6-d935-4655-b48f-5fbb2dc43aa2",
   "metadata": {},
   "outputs": [
    {
     "data": {
      "text/plain": [
       "1932.0"
      ]
     },
     "execution_count": 128,
     "metadata": {},
     "output_type": "execute_result"
    }
   ],
   "source": [
    "# cluster centorid\n",
    "kmodes.cluster_centroids_\n",
    "# check the iteration of the clusters created\n",
    "kmodes.n_iter_\n",
    "# check the cost of the clusters created\n",
    "kmodes.cost_"
   ]
  },
  {
   "cell_type": "code",
   "execution_count": 136,
   "id": "1d4ea78d-489c-428b-b042-36fcedf5dfb5",
   "metadata": {},
   "outputs": [],
   "source": [
    "# Add the cluster to the dataframe\n",
    "df_cat['Cluster Labels'] = kmodes.labels_\n",
    "df_cat['Segment'] = df_cat['Cluster Labels'].map({0:'First', 1:'Second'})\n",
    "# Order the cluster\n",
    "df_cat['Segment'] = df_cat['Segment'].astype('category')\n",
    "df_cat['Segment'] = df_cat['Segment'].cat.reorder_categories(['First', 'Second'])"
   ]
  },
  {
   "cell_type": "code",
   "execution_count": 137,
   "id": "67f58c81-66b0-45b3-91c0-ceb95b73c132",
   "metadata": {},
   "outputs": [
    {
     "data": {
      "text/html": [
       "<div>\n",
       "<style scoped>\n",
       "    .dataframe tbody tr th:only-of-type {\n",
       "        vertical-align: middle;\n",
       "    }\n",
       "\n",
       "    .dataframe tbody tr th {\n",
       "        vertical-align: top;\n",
       "    }\n",
       "\n",
       "    .dataframe thead th {\n",
       "        text-align: right;\n",
       "    }\n",
       "</style>\n",
       "<table border=\"1\" class=\"dataframe\">\n",
       "  <thead>\n",
       "    <tr style=\"text-align: right;\">\n",
       "      <th></th>\n",
       "      <th>uuid</th>\n",
       "      <th>Q3</th>\n",
       "      <th>Q5</th>\n",
       "      <th>q6_male</th>\n",
       "      <th>Cluster Labels</th>\n",
       "      <th>Segment</th>\n",
       "    </tr>\n",
       "  </thead>\n",
       "  <tbody>\n",
       "    <tr>\n",
       "      <th>0</th>\n",
       "      <td>fzxhqkwpneprp3tw</td>\n",
       "      <td>7</td>\n",
       "      <td>5</td>\n",
       "      <td>0</td>\n",
       "      <td>1</td>\n",
       "      <td>Second</td>\n",
       "    </tr>\n",
       "    <tr>\n",
       "      <th>1</th>\n",
       "      <td>s1rfy8s3rd2259pk</td>\n",
       "      <td>7</td>\n",
       "      <td>5</td>\n",
       "      <td>0</td>\n",
       "      <td>1</td>\n",
       "      <td>Second</td>\n",
       "    </tr>\n",
       "    <tr>\n",
       "      <th>2</th>\n",
       "      <td>vpcskr2qzhmffy87</td>\n",
       "      <td>7</td>\n",
       "      <td>4</td>\n",
       "      <td>1</td>\n",
       "      <td>0</td>\n",
       "      <td>First</td>\n",
       "    </tr>\n",
       "    <tr>\n",
       "      <th>3</th>\n",
       "      <td>g9dcv3wb095qn08s</td>\n",
       "      <td>1</td>\n",
       "      <td>3</td>\n",
       "      <td>0</td>\n",
       "      <td>1</td>\n",
       "      <td>Second</td>\n",
       "    </tr>\n",
       "    <tr>\n",
       "      <th>4</th>\n",
       "      <td>03qv11xnkxbwjzp6</td>\n",
       "      <td>7</td>\n",
       "      <td>2</td>\n",
       "      <td>0</td>\n",
       "      <td>1</td>\n",
       "      <td>Second</td>\n",
       "    </tr>\n",
       "    <tr>\n",
       "      <th>5</th>\n",
       "      <td>nh5phnj981wwega7</td>\n",
       "      <td>6</td>\n",
       "      <td>7</td>\n",
       "      <td>0</td>\n",
       "      <td>1</td>\n",
       "      <td>Second</td>\n",
       "    </tr>\n",
       "    <tr>\n",
       "      <th>6</th>\n",
       "      <td>ujqv0rb90fb0s32u</td>\n",
       "      <td>7</td>\n",
       "      <td>5</td>\n",
       "      <td>0</td>\n",
       "      <td>1</td>\n",
       "      <td>Second</td>\n",
       "    </tr>\n",
       "    <tr>\n",
       "      <th>7</th>\n",
       "      <td>hyj8xa5xbzp5qp81</td>\n",
       "      <td>7</td>\n",
       "      <td>3</td>\n",
       "      <td>1</td>\n",
       "      <td>0</td>\n",
       "      <td>First</td>\n",
       "    </tr>\n",
       "    <tr>\n",
       "      <th>8</th>\n",
       "      <td>4tcxvcm4rkrxgcd5</td>\n",
       "      <td>7</td>\n",
       "      <td>2</td>\n",
       "      <td>1</td>\n",
       "      <td>0</td>\n",
       "      <td>First</td>\n",
       "    </tr>\n",
       "    <tr>\n",
       "      <th>9</th>\n",
       "      <td>93q1n3ce7jznvfky</td>\n",
       "      <td>7</td>\n",
       "      <td>3</td>\n",
       "      <td>0</td>\n",
       "      <td>1</td>\n",
       "      <td>Second</td>\n",
       "    </tr>\n",
       "    <tr>\n",
       "      <th>10</th>\n",
       "      <td>7bwg8n3suggkcbw6</td>\n",
       "      <td>7</td>\n",
       "      <td>3</td>\n",
       "      <td>0</td>\n",
       "      <td>1</td>\n",
       "      <td>Second</td>\n",
       "    </tr>\n",
       "    <tr>\n",
       "      <th>11</th>\n",
       "      <td>dsp0bwbmtwagy2wb</td>\n",
       "      <td>7</td>\n",
       "      <td>3</td>\n",
       "      <td>1</td>\n",
       "      <td>0</td>\n",
       "      <td>First</td>\n",
       "    </tr>\n",
       "    <tr>\n",
       "      <th>12</th>\n",
       "      <td>w9eyj1kb0qmtpxq3</td>\n",
       "      <td>3</td>\n",
       "      <td>4</td>\n",
       "      <td>0</td>\n",
       "      <td>0</td>\n",
       "      <td>First</td>\n",
       "    </tr>\n",
       "    <tr>\n",
       "      <th>13</th>\n",
       "      <td>du5r5azdg9yemnad</td>\n",
       "      <td>3</td>\n",
       "      <td>4</td>\n",
       "      <td>1</td>\n",
       "      <td>0</td>\n",
       "      <td>First</td>\n",
       "    </tr>\n",
       "    <tr>\n",
       "      <th>14</th>\n",
       "      <td>wpxwd88jh1ymg03h</td>\n",
       "      <td>3</td>\n",
       "      <td>7</td>\n",
       "      <td>1</td>\n",
       "      <td>0</td>\n",
       "      <td>First</td>\n",
       "    </tr>\n",
       "  </tbody>\n",
       "</table>\n",
       "</div>"
      ],
      "text/plain": [
       "                uuid Q3 Q5 q6_male  Cluster Labels Segment\n",
       "0   fzxhqkwpneprp3tw  7  5       0               1  Second\n",
       "1   s1rfy8s3rd2259pk  7  5       0               1  Second\n",
       "2   vpcskr2qzhmffy87  7  4       1               0   First\n",
       "3   g9dcv3wb095qn08s  1  3       0               1  Second\n",
       "4   03qv11xnkxbwjzp6  7  2       0               1  Second\n",
       "5   nh5phnj981wwega7  6  7       0               1  Second\n",
       "6   ujqv0rb90fb0s32u  7  5       0               1  Second\n",
       "7   hyj8xa5xbzp5qp81  7  3       1               0   First\n",
       "8   4tcxvcm4rkrxgcd5  7  2       1               0   First\n",
       "9   93q1n3ce7jznvfky  7  3       0               1  Second\n",
       "10  7bwg8n3suggkcbw6  7  3       0               1  Second\n",
       "11  dsp0bwbmtwagy2wb  7  3       1               0   First\n",
       "12  w9eyj1kb0qmtpxq3  3  4       0               0   First\n",
       "13  du5r5azdg9yemnad  3  4       1               0   First\n",
       "14  wpxwd88jh1ymg03h  3  7       1               0   First"
      ]
     },
     "execution_count": 137,
     "metadata": {},
     "output_type": "execute_result"
    }
   ],
   "source": [
    "df_cat.head(15)"
   ]
  },
  {
   "cell_type": "code",
   "execution_count": 138,
   "id": "0494effd-84f1-4585-a74a-0c7a3258d314",
   "metadata": {},
   "outputs": [
    {
     "data": {
      "text/html": [
       "<div>\n",
       "<style scoped>\n",
       "    .dataframe tbody tr th:only-of-type {\n",
       "        vertical-align: middle;\n",
       "    }\n",
       "\n",
       "    .dataframe tbody tr th {\n",
       "        vertical-align: top;\n",
       "    }\n",
       "\n",
       "    .dataframe thead th {\n",
       "        text-align: right;\n",
       "    }\n",
       "</style>\n",
       "<table border=\"1\" class=\"dataframe\">\n",
       "  <thead>\n",
       "    <tr style=\"text-align: right;\">\n",
       "      <th></th>\n",
       "      <th>Segment</th>\n",
       "      <th>uuid</th>\n",
       "      <th>Q3</th>\n",
       "      <th>Q5</th>\n",
       "      <th>q6_male</th>\n",
       "      <th>Cluster Labels</th>\n",
       "    </tr>\n",
       "  </thead>\n",
       "  <tbody>\n",
       "    <tr>\n",
       "      <th>0</th>\n",
       "      <td>First</td>\n",
       "      <td>760</td>\n",
       "      <td>760</td>\n",
       "      <td>760</td>\n",
       "      <td>760</td>\n",
       "      <td>760</td>\n",
       "    </tr>\n",
       "    <tr>\n",
       "      <th>1</th>\n",
       "      <td>Second</td>\n",
       "      <td>502</td>\n",
       "      <td>502</td>\n",
       "      <td>502</td>\n",
       "      <td>502</td>\n",
       "      <td>502</td>\n",
       "    </tr>\n",
       "  </tbody>\n",
       "</table>\n",
       "</div>"
      ],
      "text/plain": [
       "  Segment  uuid   Q3   Q5  q6_male  Cluster Labels\n",
       "0   First   760  760  760      760             760\n",
       "1  Second   502  502  502      502             502"
      ]
     },
     "execution_count": 138,
     "metadata": {},
     "output_type": "execute_result"
    }
   ],
   "source": [
    "df_cat.groupby(['Segment'], as_index=False).count()"
   ]
  },
  {
   "cell_type": "code",
   "execution_count": 139,
   "id": "1f188be1-db65-402d-8355-2f9ff3f0172a",
   "metadata": {},
   "outputs": [
    {
     "data": {
      "text/html": [
       "<div>\n",
       "<style scoped>\n",
       "    .dataframe tbody tr th:only-of-type {\n",
       "        vertical-align: middle;\n",
       "    }\n",
       "\n",
       "    .dataframe tbody tr th {\n",
       "        vertical-align: top;\n",
       "    }\n",
       "\n",
       "    .dataframe thead th {\n",
       "        text-align: right;\n",
       "    }\n",
       "</style>\n",
       "<table border=\"1\" class=\"dataframe\">\n",
       "  <thead>\n",
       "    <tr style=\"text-align: right;\">\n",
       "      <th></th>\n",
       "      <th>Cluster</th>\n",
       "      <th>Cost</th>\n",
       "    </tr>\n",
       "  </thead>\n",
       "  <tbody>\n",
       "    <tr>\n",
       "      <th>0</th>\n",
       "      <td>1</td>\n",
       "      <td>2689.0</td>\n",
       "    </tr>\n",
       "    <tr>\n",
       "      <th>1</th>\n",
       "      <td>2</td>\n",
       "      <td>1989.0</td>\n",
       "    </tr>\n",
       "    <tr>\n",
       "      <th>2</th>\n",
       "      <td>3</td>\n",
       "      <td>1932.0</td>\n",
       "    </tr>\n",
       "    <tr>\n",
       "      <th>3</th>\n",
       "      <td>4</td>\n",
       "      <td>1698.0</td>\n",
       "    </tr>\n",
       "    <tr>\n",
       "      <th>4</th>\n",
       "      <td>5</td>\n",
       "      <td>1578.0</td>\n",
       "    </tr>\n",
       "  </tbody>\n",
       "</table>\n",
       "</div>"
      ],
      "text/plain": [
       "   Cluster    Cost\n",
       "0        1  2689.0\n",
       "1        2  1989.0\n",
       "2        3  1932.0\n",
       "3        4  1698.0\n",
       "4        5  1578.0"
      ]
     },
     "execution_count": 139,
     "metadata": {},
     "output_type": "execute_result"
    }
   ],
   "source": [
    "df_cost.head()"
   ]
  },
  {
   "cell_type": "code",
   "execution_count": null,
   "id": "75f12db3-dbf4-440d-809f-2734b5eba2d1",
   "metadata": {},
   "outputs": [],
   "source": []
  }
 ],
 "metadata": {
  "kernelspec": {
   "display_name": "Python 3",
   "language": "python",
   "name": "python3"
  },
  "language_info": {
   "codemirror_mode": {
    "name": "ipython",
    "version": 3
   },
   "file_extension": ".py",
   "mimetype": "text/x-python",
   "name": "python",
   "nbconvert_exporter": "python",
   "pygments_lexer": "ipython3",
   "version": "3.8.11"
  }
 },
 "nbformat": 4,
 "nbformat_minor": 5
}
